{
 "cells": [
  {
   "cell_type": "markdown",
   "id": "64961be9",
   "metadata": {},
   "source": [
    "f(x) = (sin(x)/2 + cos(x)/2) ** 2 * sin(x)\n",
    "\n",
    "Определить корни\n",
    "\n",
    "Найти интервалы, на которых функция возрастает\n",
    "\n",
    "Найти интервалы, на которых функция убывает\n",
    "\n",
    "Построить график\n",
    "\n",
    "Вычислить вершину\n",
    "\n",
    "Определить промежутки, на котором f > 0\n",
    "\n",
    "Определить промежутки, на котором f < 0"
   ]
  },
  {
   "cell_type": "code",
   "execution_count": 11,
   "id": "606462d4",
   "metadata": {},
   "outputs": [],
   "source": [
    "from sympy import *"
   ]
  },
  {
   "cell_type": "code",
   "execution_count": 12,
   "id": "7545294a",
   "metadata": {},
   "outputs": [],
   "source": [
    "x = Symbol('x')"
   ]
  },
  {
   "cell_type": "code",
   "execution_count": 13,
   "id": "4970cca5",
   "metadata": {},
   "outputs": [
    {
     "data": {
      "text/latex": [
       "$\\displaystyle \\left(\\frac{\\sin{\\left(x \\right)}}{2} + \\frac{\\cos{\\left(x \\right)}}{2}\\right)^{2} \\sin{\\left(x \\right)}$"
      ],
      "text/plain": [
       "(sin(x)/2 + cos(x)/2)**2*sin(x)"
      ]
     },
     "execution_count": 13,
     "metadata": {},
     "output_type": "execute_result"
    }
   ],
   "source": [
    "function = (sin(x)/2 + cos(x)/2) ** 2 * sin(x)\n",
    "function"
   ]
  },
  {
   "cell_type": "markdown",
   "id": "fb873d53",
   "metadata": {},
   "source": [
    "**Построить график (на 1 периоде)**"
   ]
  },
  {
   "cell_type": "code",
   "execution_count": 14,
   "id": "0f242ef3",
   "metadata": {},
   "outputs": [
    {
     "data": {
      "text/latex": [
       "$\\displaystyle 2 \\pi$"
      ],
      "text/plain": [
       "2*pi"
      ]
     },
     "execution_count": 14,
     "metadata": {},
     "output_type": "execute_result"
    }
   ],
   "source": [
    "periodicity(function,x)"
   ]
  },
  {
   "cell_type": "code",
   "execution_count": 15,
   "id": "1c4bb346",
   "metadata": {},
   "outputs": [
    {
     "data": {
      "image/png": "[encoded data removed]",
      "text/plain": [
       "<Figure size 640x480 with 1 Axes>"
      ]
     },
     "metadata": {},
     "output_type": "display_data"
    },
    {
     "data": {
      "text/plain": [
       "<sympy.plotting.plot.Plot at 0x22c6023dfa0>"
      ]
     },
     "execution_count": 15,
     "metadata": {},
     "output_type": "execute_result"
    }
   ],
   "source": [
    "graph = plot(function,(x, 0, 2*pi))\n",
    "graph"
   ]
  },
  {
   "cell_type": "markdown",
   "id": "b55d5ced",
   "metadata": {},
   "source": [
    "**Определить корни**"
   ]
  },
  {
   "cell_type": "code",
   "execution_count": 16,
   "id": "f07de1dd",
   "metadata": {},
   "outputs": [
    {
     "name": "stdout",
     "output_type": "stream",
     "text": [
      "[0, -pi/4, 3*pi/4, pi]\n",
      "0, -0.785398163397448, 2.35619449019234, 3.14159265358979, "
     ]
    }
   ],
   "source": [
    "roots = solve(function)\n",
    "print(roots)\n",
    "for i in roots:    \n",
    "    print(i.evalf(), end = ', ')"
   ]
  },
  {
   "cell_type": "markdown",
   "id": "6e18a73c",
   "metadata": {},
   "source": [
    "**Найти интервалы, на которых функция возрастает / убывает**"
   ]
  },
  {
   "cell_type": "code",
   "execution_count": 17,
   "id": "c0bd13f3",
   "metadata": {},
   "outputs": [
    {
     "name": "stdout",
     "output_type": "stream",
     "text": [
      "-0.785398163397448, 2.35619449019234, -2.08246597090872, 2.86786413430617, 1.05912668268107, -0.273728519283620, \n"
     ]
    }
   ],
   "source": [
    "pro = diff(function,x)\n",
    "pro\n",
    "peaks = solve(pro, x)\n",
    "for i in peaks:    \n",
    "    print(i.evalf(), end = ', ')\n",
    "print()"
   ]
  },
  {
   "cell_type": "markdown",
   "id": "89967d3f",
   "metadata": {},
   "source": [
    "**Вычислить вершину**"
   ]
  },
  {
   "cell_type": "code",
   "execution_count": 18,
   "id": "336d28a6",
   "metadata": {},
   "outputs": [
    {
     "name": "stdout",
     "output_type": "stream",
     "text": [
      "x = -pi/4\n",
      "y = 0\n",
      "\n",
      "x = -0.785398163397448\n",
      "x = 0\n",
      "\n",
      "x = 3*pi/4\n",
      "y = 0\n",
      "\n",
      "x = 2.35619449019234\n",
      "x = 0\n",
      "\n",
      "x = -2*atan(-3/2 + sqrt(6)*sqrt(5 - sqrt(17))/2 + sqrt(17)/2)\n",
      "y = -(-sin(2*atan(-3/2 + sqrt(6)*sqrt(5 - sqrt(17))/2 + sqrt(17)/2))/2 + cos(2*atan(-3/2 + sqrt(6)*sqrt(5 - sqrt(17))/2 + sqrt(17)/2))/2)**2*sin(2*atan(-3/2 + sqrt(6)*sqrt(5 - sqrt(17))/2 + sqrt(17)/2))\n",
      "\n",
      "x = -2.08246597090872\n",
      "x = -0.404106232073136\n",
      "\n",
      "x = 2*atan(3/2 + sqrt(17)/2 + sqrt(6)*sqrt(sqrt(17) + 5)/2)\n",
      "y = (cos(2*atan(3/2 + sqrt(17)/2 + sqrt(6)*sqrt(sqrt(17) + 5)/2))/2 + sin(2*atan(3/2 + sqrt(17)/2 + sqrt(6)*sqrt(sqrt(17) + 5)/2))/2)**2*sin(2*atan(3/2 + sqrt(17)/2 + sqrt(6)*sqrt(sqrt(17) + 5)/2))\n",
      "\n",
      "x = 2.86786413430617\n",
      "x = 0.0324037814383501\n",
      "\n",
      "x = 2*atan(-sqrt(17)/2 + sqrt(6)*sqrt(5 - sqrt(17))/2 + 3/2)\n",
      "y = (cos(2*atan(-sqrt(17)/2 + sqrt(6)*sqrt(5 - sqrt(17))/2 + 3/2))/2 + sin(2*atan(-sqrt(17)/2 + sqrt(6)*sqrt(5 - sqrt(17))/2 + 3/2))/2)**2*sin(2*atan(-sqrt(17)/2 + sqrt(6)*sqrt(5 - sqrt(17))/2 + 3/2))\n",
      "\n",
      "x = 1.05912668268107\n",
      "x = 0.404106232073136\n",
      "\n",
      "x = 2*atan(-sqrt(6)*sqrt(sqrt(17) + 5)/2 + 3/2 + sqrt(17)/2)\n",
      "y = (sin(2*atan(-sqrt(6)*sqrt(sqrt(17) + 5)/2 + 3/2 + sqrt(17)/2))/2 + cos(2*atan(-sqrt(6)*sqrt(sqrt(17) + 5)/2 + 3/2 + sqrt(17)/2))/2)**2*sin(2*atan(-sqrt(6)*sqrt(sqrt(17) + 5)/2 + 3/2 + sqrt(17)/2))\n",
      "\n",
      "x = -0.273728519283620\n",
      "x = -0.0324037814383501\n",
      "\n"
     ]
    }
   ],
   "source": [
    "for x in peaks:\n",
    "    y = (sin(x)/2 + cos(x)/2) ** 2 * sin(x)\n",
    "    print(f'x = {x}')\n",
    "    print(f'y = {y}')\n",
    "    print()\n",
    "    print(f'x = {x.evalf()}')\n",
    "    print(f'x = {y.evalf()}')\n",
    "    print()"
   ]
  },
  {
   "cell_type": "markdown",
   "id": "29d797ce",
   "metadata": {},
   "source": [
    "**Определить промежутки, на котором f > 0**"
   ]
  },
  {
   "cell_type": "code",
   "execution_count": 19,
   "id": "1a0da1b1",
   "metadata": {},
   "outputs": [
    {
     "data": {
      "text/latex": [
       "$\\displaystyle x > 0 \\wedge x < \\pi \\wedge x \\neq \\frac{3 \\pi}{4}$"
      ],
      "text/plain": [
       "(x > 0) & (x < pi) & Ne(x, 3*pi/4)"
      ]
     },
     "execution_count": 19,
     "metadata": {},
     "output_type": "execute_result"
    }
   ],
   "source": [
    "solve(function>0)"
   ]
  },
  {
   "cell_type": "markdown",
   "id": "8fffca0b",
   "metadata": {},
   "source": [
    "**Определить промежутки, на котором f < 0**"
   ]
  },
  {
   "cell_type": "code",
   "execution_count": 20,
   "id": "dbf27cfc",
   "metadata": {},
   "outputs": [
    {
     "data": {
      "text/latex": [
       "$\\displaystyle x > \\pi \\wedge x < 2 \\pi \\wedge x \\neq \\frac{7 \\pi}{4}$"
      ],
      "text/plain": [
       "(x > pi) & (x < 2*pi) & Ne(x, 7*pi/4)"
      ]
     },
     "execution_count": 20,
     "metadata": {},
     "output_type": "execute_result"
    }
   ],
   "source": [
    "solve(function<0)"
   ]
  },
  {
   "cell_type": "code",
   "execution_count": null,
   "id": "7f0a0186",
   "metadata": {},
   "outputs": [],
   "source": []
  }
 ],
 "metadata": {
  "kernelspec": {
   "display_name": "Python 3 (ipykernel)",
   "language": "python",
   "name": "python3"
  },
  "language_info": {
   "codemirror_mode": {
    "name": "ipython",
    "version": 3
   },
   "file_extension": ".py",
   "mimetype": "text/x-python",
   "name": "python",
   "nbconvert_exporter": "python",
   "pygments_lexer": "ipython3",
   "version": "3.9.13"
  }
 },
 "nbformat": 4,
 "nbformat_minor": 5
}
